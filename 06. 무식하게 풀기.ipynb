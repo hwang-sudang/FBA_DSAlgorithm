{
 "cells": [
  {
   "cell_type": "markdown",
   "metadata": {},
   "source": [
    "# 06. 무식하게 풀기"
   ]
  },
  {
   "cell_type": "markdown",
   "metadata": {},
   "source": [
    "### 6.1 도입"
   ]
  },
  {
   "cell_type": "markdown",
   "metadata": {},
   "source": [
    "- \"무식하게 푼다(brute-force)\"는 가능한 경우의 수를 일일이 나열하면서 답을 찾는 방식을 의미\n",
    "- 이러한 방식을 흔히 완전 탐색(exhaustive search)이라고 부름"
   ]
  },
  {
   "cell_type": "markdown",
   "metadata": {},
   "source": [
    "### 6.2 재귀 호출(recursion)과 완전 탐색"
   ]
  },
  {
   "cell_type": "code",
   "execution_count": 4,
   "metadata": {},
   "outputs": [],
   "source": [
    "def recursiveSum(n):\n",
    "    if n == 1:\n",
    "        return 1\n",
    "    return n + recursiveSum(n-1)"
   ]
  },
  {
   "cell_type": "markdown",
   "metadata": {},
   "source": [
    "-> 위 함수처럼 함수안에서 다시 한번 자기 자신을 호출해 실행하는 함수를 의미함.\n",
    "\n",
    "-> 모든 재귀 함수는 이와같이 \"더이상 쪼개지지 않는\" 최소한의 작업에 도달했을 때 답을 곧장 반환하는 조건문을 포함해야함. 이때 쪼개지지 않는 가장 작은 작업들을 가리켜 재귀 호출의 기저 사례(base case)라고 함."
   ]
  },
  {
   "cell_type": "markdown",
   "metadata": {},
   "source": [
    "예제: 중첩 반복분 대체하기\n",
    "\n",
    "-> 0번부터 차례대로 번호 매겨진 n개의 원소 중 네 개를 고르는 모든 경우를 출력하는 코드를 작성해 봅시다."
   ]
  },
  {
   "cell_type": "code",
   "execution_count": 7,
   "metadata": {},
   "outputs": [],
   "source": [
    "def pick(n, toPick, picked = []):\n",
    "    ## 기저 사례: 더 고를 원소가 없을 때 고른 원소들을 출력한다.\n",
    "    if toPick == 0:\n",
    "        print(picked)\n",
    "        return\n",
    "    ## 고를 수 있는 가장 작은 번호를 계산한다.\n",
    "    if len(picked) == 0:\n",
    "        smallest = 0\n",
    "    else:\n",
    "        smallest = picked[-1] + 1\n",
    "    ## 이 단계에서 원소 하나를 고른다.\n",
    "    for i in range(smallest, n-toPick+1):\n",
    "        picked.append(i)\n",
    "        pick(n, toPick - 1, picked)\n",
    "        picked.pop()"
   ]
  },
  {
   "cell_type": "code",
   "execution_count": null,
   "metadata": {},
   "outputs": [],
   "source": [
    "pick(10,3)"
   ]
  },
  {
   "cell_type": "markdown",
   "metadata": {},
   "source": [
    "예제: 보글 게임"
   ]
  },
  {
   "cell_type": "code",
   "execution_count": 1,
   "metadata": {},
   "outputs": [
    {
     "name": "stdout",
     "output_type": "stream",
     "text": [
      "2\n",
      "URLPM\n",
      "XPRET\n",
      "GIAET\n",
      "XTNZY\n",
      "XOQRS\n",
      "5\n",
      "PRETTY\n",
      "GIRL\n",
      "REPEAT\n",
      "KARA\n",
      "PANDORA\n",
      "NNNNS\n",
      "NEEEN\n",
      "NEYEN\n",
      "NEEEN\n",
      "NNNNN\n",
      "4\n",
      "YESR\n",
      "SNNNNNNN\n",
      "EEEEEEEEE\n",
      "NEYN\n",
      "PRETTY YES\n",
      "GIRL YES\n",
      "REPEAT YES\n",
      "KARA NO\n",
      "PANDORA NO\n",
      "YESR NO\n",
      "SNNNNNNN YES\n",
      "EEEEEEEEE YES\n",
      "NEYN NO\n"
     ]
    }
   ],
   "source": [
    "dx = (-1, -1, -1, 1, 1, 1, 0, 0)\n",
    "dy = (-1, 0, 1, -1, 0, 1, -1, 1)\n",
    "\n",
    "def hasWord(y, x, word):\n",
    "    ## 기저 사례 1: 시작 위치가 범위 밖이면 무조건 실패\n",
    "    if inRange(y,x) == False:\n",
    "        return False\n",
    "    ## 기저 사례 2: 첫 글자가 일치하지 않으면 실패\n",
    "    if board[y][x] != word[0]:\n",
    "        return False\n",
    "    ## 기저 사례 3: 단어 길이가 1이면 성공\n",
    "    if len(word) == 1:\n",
    "        return True\n",
    "    ## 인접한 여덟 칸을 검사한다.\n",
    "    for direction in range(8):\n",
    "        nextY = y + dy[direction]; nextX = x + dx[direction]\n",
    "        \n",
    "        if hasWord(nextY, nextX, word[1:]):\n",
    "            return True\n",
    "    return False\n",
    "\n",
    "def inRange(y,x):\n",
    "    if y > 4 or y < 0 or x > 4 or x < 0:\n",
    "        return False\n",
    "    return True\n",
    "\n",
    "def findFirstChr(word):\n",
    "    for y_idx in range(0,5):\n",
    "        for x_idx in range(0,5):\n",
    "            if board[y_idx][x_idx] == word[0]:\n",
    "                if hasWord(y_idx, x_idx, word):\n",
    "                    return \"YES\"\n",
    "    return \"NO\"\n",
    "\n",
    "if __name__ == \"__main__\" : \n",
    "    global board\n",
    "    answers = []\n",
    "    for _ in range(int(input())) : \n",
    "        board = []\n",
    "        \n",
    "        for _ in range(0,5) : \n",
    "            board.append([ch for ch in input()]) \n",
    "            \n",
    "        word = [] \n",
    "            \n",
    "        for _ in range(0,int(input())) : \n",
    "            word.append(input()) \n",
    "                \n",
    "        for wd in word : \n",
    "            answers.append((wd, findFirstChr(wd)))\n",
    "            \n",
    "    for ans in answers:\n",
    "        print(ans[0],ans[1])"
   ]
  },
  {
   "cell_type": "markdown",
   "metadata": {},
   "source": [
    "### 6.3 시간복잡도 분석"
   ]
  },
  {
   "cell_type": "markdown",
   "metadata": {},
   "source": [
    "-> 완전 탐색 알고리즘의 시간 복잡도를 계산하는 것은 비교적 단순\n",
    "\n",
    "-> 가능한 후보의 수를 전부 세어 보기만 하면 됨"
   ]
  },
  {
   "cell_type": "markdown",
   "metadata": {},
   "source": [
    "-> (문제점) : A로 가득찬 격자에서, 단어 AAAAH 를 찾는 것\n",
    "\n",
    "-> 단어를 찾을 가능성이 없지만 완전 탐색은 이를 알 수 없음\n",
    "\n",
    "-> 위 함수의 경우 $8^{N-1} = O$ 가 된다\n",
    "\n",
    "-> 따라서 찾고자 하는 단어의 길이가 길어질수록 다른 알고리즘을 이용하는 것이 좋음"
   ]
  },
  {
   "cell_type": "markdown",
   "metadata": {},
   "source": [
    "### 6.4 완전 탐색 레시피"
   ]
  },
  {
   "cell_type": "markdown",
   "metadata": {},
   "source": [
    "다음은 완전 탐색으로 문제를 해결하기 위해 필요한 대략적인 과정임\n",
    "\n",
    "1. 완전 탐색은 존재하는 모든 답을 하나씩 검사하므로, 걸리는 시간은 가능한 답의 수에 정확히 비례함. 최대 크기의 입력을 가정했을 때 답의 개수를 계산하고 이들을 모두 제한 시간 안에 생성할 수 있을지를 가늠함. 만약 시간안에 계산할 수 없다면 다른 설계 패러다임을 적용해야함.\n",
    "\n",
    "\n",
    "2. 가능한 모든 답의 후보를 만드는 과정을 여러 개의 선택으로 나눔. 각 선택은 답의 후보를 만드는 과정의 한 조각이 됨.\n",
    "\n",
    "\n",
    "3. 그중 하나의 조각을 선택한 답의 일부를 만들고, 나머지 답을 재귀 호출을 통해 완성\n",
    "\n",
    "\n",
    "4. 조각이 하나밖에 남지 않은 경우, 혹은 하나도 남지 않은 경우에는 답을 생성했으므로, 이것을 기저 사례로 선택해 처리함."
   ]
  },
  {
   "cell_type": "markdown",
   "metadata": {},
   "source": [
    "### 6.5 이론적 배경: 재귀 호출과 부분 문제"
   ]
  },
  {
   "cell_type": "markdown",
   "metadata": {},
   "source": [
    "재귀 호출의 중요한 개념중 하나로 문제(problem)와 부분 문제(subproblem)의 정의가 있음.\n",
    "\n",
    "-> 책 참고"
   ]
  },
  {
   "cell_type": "markdown",
   "metadata": {},
   "source": [
    "문제: 소풍"
   ]
  },
  {
   "cell_type": "code",
   "execution_count": 88,
   "metadata": {},
   "outputs": [
    {
     "name": "stdout",
     "output_type": "stream",
     "text": [
      "1\n",
      "4 6\n",
      "0 1 1 2 2 3 3 0 0 2 1 3\n",
      "3\n"
     ]
    }
   ],
   "source": [
    "\n",
    "## taken[i] = i번째 학생이 짝을 이미 찾았으면 true, 아니면 false\n",
    "def countPairings(taken):\n",
    "    \n",
    "    firstFree = -1\n",
    "    for i in range(len(taken)):\n",
    "        if taken[i] == False:\n",
    "            firstFree = i\n",
    "            break\n",
    "            \n",
    "    ## 기저 사례: 모든 학생이 짝을 찾았으면 한 가지 방법을 찾았으니 종료하다.\n",
    "    if firstFree == -1:\n",
    "        return 1\n",
    "    \n",
    "    ret = 0\n",
    "    \n",
    "    ## 이 학생과 짝지을 학생을 결정한다.\n",
    "    for pairWith in range(firstFree + 1, n):\n",
    "        if (taken[pairWith] == False) & (areFriends[firstFree][pairWith] == True):\n",
    "            taken[firstFree] = True ; taken[pairWith] = True\n",
    "            ret += countPairings(taken)\n",
    "            taken[firstFree] = False ; taken[pairWith] = False\n",
    "            \n",
    "    return ret\n",
    "\n",
    "if __name__ == \"__main__\" : \n",
    "    global areFriends\n",
    "    \n",
    "    answers = []\n",
    "    for _ in range(int(input())) : \n",
    "        \n",
    "        n,m = map(int, input().split())\n",
    "        \n",
    "        friend_list = list(map(int, input().split()))\n",
    "        \n",
    "        taken = [False for _ in range(n)]\n",
    "        areFriends = [[False for _ in range(n)] for _1 in range(n)]\n",
    "\n",
    "        for idx_ in range(0, len(friend_list), 2):\n",
    "            y = friend_list[idx_]\n",
    "            x = friend_list[idx_+1]\n",
    "            areFriends[x][y] = True\n",
    "            areFriends[y][x] = True\n",
    "            \n",
    "        \n",
    "        answers.append(countPairings(taken))\n",
    "        \n",
    "    for ans in answers:\n",
    "        print(ans)"
   ]
  },
  {
   "cell_type": "markdown",
   "metadata": {},
   "source": [
    "문제: 게임판 덮기"
   ]
  },
  {
   "attachments": {
    "%EB%8D%AE%EB%8A%94%20%EB%B0%A9%EB%B2%95.png": {
     "image/png": "[encoded data removed]"
    }
   },
   "cell_type": "markdown",
   "metadata": {},
   "source": [
    "![%EB%8D%AE%EB%8A%94%20%EB%B0%A9%EB%B2%95.png](attachment:%EB%8D%AE%EB%8A%94%20%EB%B0%A9%EB%B2%95.png)"
   ]
  },
  {
   "cell_type": "markdown",
   "metadata": {},
   "source": [
    "1. { {0,0}, {1,0}, {0,1} }\n",
    "\n",
    "2. { {0,0}, {0,1}, {1,1} }\n",
    "\n",
    "3. { {0,0}, {1,0}, {1,1} }\n",
    "\n",
    "4. { {0,0}, {1,0}, {1,-1} }"
   ]
  },
  {
   "cell_type": "code",
   "execution_count": 105,
   "metadata": {},
   "outputs": [
    {
     "name": "stdout",
     "output_type": "stream",
     "text": [
      "1\n",
      "8 10\n",
      "##########\n",
      "#........#\n",
      "#........#\n",
      "#........#\n",
      "#........#\n",
      "#........#\n",
      "#........#\n",
      "##########\n",
      "1514\n"
     ]
    }
   ],
   "source": [
    "coverType = (((0,0),(1,0),(0,1)),\n",
    "             ((0,0),(0,1),(1,1)),\n",
    "             ((0,0),(1,0),(1,1)),\n",
    "             ((0,0),(1,0),(1,-1)))\n",
    "\n",
    "## 퍼즐을 넣을 수 있는지 없는지 판단.\n",
    "def set_func(board, y, x, type_, delta):\n",
    "    ok = True\n",
    "    for i in range(3):\n",
    "        ny = y + coverType[type_][i][0]\n",
    "        nx = x + coverType[type_][i][1]\n",
    "        \n",
    "        if (ny < 0) | (ny >= len(board)) | (nx < 0) | (nx >= len(board[0])):\n",
    "            ok = False\n",
    "        else:\n",
    "            board[ny][nx] += delta\n",
    "            if (board[ny][nx]) > 1:\n",
    "                ok = False\n",
    "        \n",
    "            \n",
    "    return ok\n",
    "\n",
    "def cover(board):\n",
    "    y = -1; x = -1;\n",
    "    for i in range(len(board)):\n",
    "        for j in range(len(board[i])):\n",
    "            if board[i][j] == 0:\n",
    "                y = i\n",
    "                x = j\n",
    "                break\n",
    "        if y != -1:\n",
    "            break\n",
    "            \n",
    "    ## 기저 사례: 모든칸을 채웠으면 1을 반환한다\n",
    "    if y == -1:\n",
    "        return 1\n",
    "    \n",
    "    ret = 0\n",
    "    for type_ in range(4): # 4가지 채우는 방식\n",
    "        if set_func(board, y, x, type_, 1):\n",
    "            ret += cover(board)\n",
    "        \n",
    "        ## 덮었던 블록을 치운다\n",
    "        set_func(board, y, x, type_, -1)\n",
    "        \n",
    "    return ret\n",
    "\n",
    "if __name__ == \"__main__\" : \n",
    "    global board\n",
    "    \n",
    "    answers = []\n",
    "    for _ in range(int(input())) : \n",
    "        \n",
    "        n,m = map(int, input().split())\n",
    "        \n",
    "        board = []\n",
    "        \n",
    "        for y_idx in range(n):\n",
    "            pointer = input()\n",
    "            board.append([1 if ch == '#' else 0 for ch in pointer])\n",
    "    \n",
    "            \n",
    "#         print(board)\n",
    "        answers.append(cover(board))\n",
    "        \n",
    "    for ans in answers:\n",
    "        print(ans)"
   ]
  },
  {
   "cell_type": "markdown",
   "metadata": {},
   "source": [
    "### 6.7 최적화 문제"
   ]
  },
  {
   "cell_type": "markdown",
   "metadata": {},
   "source": [
    "-> 어떤 기준에 따라 가장 '좋은' 답을 찾아 내는 문제들을 통칭해 최적화 문제라고 함.\n",
    "\n",
    "-> 완전 탐색도 이중 하나\n",
    "\n",
    "-> 이외에도 동적 계획법, 조합 탐색 등 다양한 방법들이 존재"
   ]
  },
  {
   "cell_type": "markdown",
   "metadata": {},
   "source": [
    "예제: 여행하는 외판원 문제"
   ]
  },
  {
   "cell_type": "code",
   "execution_count": 106,
   "metadata": {},
   "outputs": [
    {
     "data": {
      "text/plain": [
       "2"
      ]
     },
     "execution_count": 106,
     "metadata": {},
     "output_type": "execute_result"
    }
   ],
   "source": [
    "sum([True, True])"
   ]
  },
  {
   "cell_type": "code",
   "execution_count": 201,
   "metadata": {},
   "outputs": [],
   "source": [
    "n = 3\n",
    "dist = [[0.0000000000,  611.6157225201,  648.7500617289],\n",
    "        [611.6157225201,  0.0000000000,  743.8557967501],\n",
    "        [648.7500617289,  743.8557967501,  0.0000000000]]\n",
    "\n",
    "visited = [False for _ in range(n)]\n",
    "allLength = []\n",
    "\n",
    "def shortestPath(dist, visited, current_length=0, path=[]):\n",
    "    if len(path) == n:\n",
    "        return current_length\n",
    "    \n",
    "    for next_ in range(n):\n",
    "        if visited[next_] == False:\n",
    "            if len(path) == 0:\n",
    "                here = next_\n",
    "#                 print('in')\n",
    "            else:\n",
    "                here = path[-1]\n",
    "            visited[next_] = True\n",
    "            path.append(next_)\n",
    "\n",
    "            cand = shortestPath(dist, visited, current_length + dist[here][next_], path)\n",
    "\n",
    "            allLength.append(cand)\n",
    "            visited[next_] = False\n",
    "            path.pop()\n",
    "            \n",
    "    return min(allLength)"
   ]
  },
  {
   "cell_type": "code",
   "execution_count": 202,
   "metadata": {},
   "outputs": [
    {
     "data": {
      "text/plain": [
       "1260.3657842490002"
      ]
     },
     "execution_count": 202,
     "metadata": {},
     "output_type": "execute_result"
    }
   ],
   "source": [
    "shortestPath(dist,visited)"
   ]
  },
  {
   "cell_type": "markdown",
   "metadata": {},
   "source": [
    "### 6.8 문제: 시계 맞추기"
   ]
  },
  {
   "cell_type": "markdown",
   "metadata": {},
   "source": [
    "-> 어떤 스위치를 네 번 누르면 연결된 시계는 모두 12시간씩 앞으로 이동하므로 누르지 않은 것과 동일\n",
    "\n",
    "-> 따라서 스위치를 누르는 횟수는 0에서 3사이의 정수여야 함"
   ]
  },
  {
   "cell_type": "code",
   "execution_count": 4,
   "metadata": {},
   "outputs": [],
   "source": [
    "temp_ = [\n",
    "        [0, 1, 2],\n",
    "        [3, 7, 9, 11],\n",
    "        [4, 10, 14, 15],\n",
    "        [0, 4, 5, 6, 7],\n",
    "        [6, 7, 8, 10, 12],\n",
    "        [0, 2, 14, 15],\n",
    "        [3, 14, 15],\n",
    "        [4, 5, 7, 14, 15],\n",
    "        [1, 2, 3, 4, 5],\n",
    "        [3, 4, 5, 9, 13]\n",
    "    ]"
   ]
  },
  {
   "cell_type": "code",
   "execution_count": 5,
   "metadata": {},
   "outputs": [],
   "source": [
    "linked = [['.' for _ in range(16)] for _1 in range(10)]\n",
    "for x,k in enumerate(temp_):\n",
    "    for y in k:\n",
    "        linked[x][y] = 'x'"
   ]
  },
  {
   "cell_type": "code",
   "execution_count": null,
   "metadata": {
    "scrolled": true
   },
   "outputs": [
    {
     "name": "stdout",
     "output_type": "stream",
     "text": [
      "2\n",
      "12 6 6 6 6 6 12 12 12 12 12 12 12 12 12 12\n"
     ]
    }
   ],
   "source": [
    "INF = 9999\n",
    "SWITCHES = 10\n",
    "CLOCKS = 16\n",
    "\n",
    "\n",
    "def push(clocks, swtch):\n",
    "    for clock in range(CLOCKS):\n",
    "        if linked[swtch][clock] == 'x':\n",
    "            clocks[clock] += 3\n",
    "            if clocks[clock] == 15:\n",
    "                clocks[clock] = 3\n",
    "                \n",
    "## 모든 시계가 12시를 가리키고 있는지 확인\n",
    "def areAligned(clocks):\n",
    "    for i in range(CLOCKS):\n",
    "        if clocks[i] != 12:\n",
    "            return False\n",
    "    return True\n",
    "    \n",
    "        \n",
    "def solve(clocks, swtch=0):\n",
    "    if swtch == SWITCHES:\n",
    "        if areAligned(clocks):\n",
    "            return 0\n",
    "    \n",
    "    ret = INF\n",
    "    for cnt in range(4):\n",
    "#         print(ret)\n",
    "        ret = min(ret, cnt+solve(clocks, swtch+1))\n",
    "        push(clocks, swtch)\n",
    "        \n",
    "    return ret\n",
    "\n",
    "if __name__ == \"__main__\" : \n",
    "    global board\n",
    "    \n",
    "    answers = []\n",
    "    for _ in range(int(input())) : \n",
    "        \n",
    "        clocks = list(map(int, input().split()))\n",
    "        \n",
    "        answers.append(solve(clocks, 0))\n",
    "        \n",
    "    for ans in answers:\n",
    "        print(ans)"
   ]
  },
  {
   "cell_type": "code",
   "execution_count": 1,
   "metadata": {},
   "outputs": [
    {
     "name": "stdout",
     "output_type": "stream",
     "text": [
      "1\n",
      "12 6 6 6 6 6 12 12 12 12 12 12 12 12 12 12\n",
      "2\n"
     ]
    }
   ],
   "source": []
  },
  {
   "cell_type": "markdown",
   "metadata": {},
   "source": [
    "-> 그외에 모든 순열 만들기, 모든 조합 만들기, $2^n$ 가지 경우의 수 만들기에서 완전탐색법이 사용될 수 있음"
   ]
  },
  {
   "cell_type": "code",
   "execution_count": null,
   "metadata": {},
   "outputs": [],
   "source": [
    "# # from typing import Dict, List\n",
    "# from collections import deque, defaultdict, OrderedDict, Counter\n",
    "# from heapq import heapify, heappush, heappop\n",
    "# from bisect import bisect_left, bisect_right\n",
    "# from functools import lru_cache\n",
    "# from itertools import combinations, permutations\n",
    "# import re\n",
    "# import sys\n",
    "# inf = float('inf')\n",
    "# sys.setrecursionlimit(10**9)\n",
    "# MOD = 10**9+7\n",
    "\n",
    "\n",
    "# def solve(clocks):\n",
    "#     clocks = [num // 3 % 4 for num in clocks]\n",
    "#     switches = [\n",
    "#         [0, 1, 2],\n",
    "#         [3, 7, 9, 11],\n",
    "#         [4, 10, 14, 15],\n",
    "#         [0, 4, 5, 6, 7],\n",
    "#         [6, 7, 8, 10, 12],\n",
    "#         [0, 2, 14, 15],\n",
    "#         [3, 14, 15],\n",
    "#         [4, 5, 7, 14, 15],\n",
    "#         [1, 2, 3, 4, 5],\n",
    "#         [3, 4, 5, 9, 13]\n",
    "#     ]\n",
    "\n",
    "#     def create(idx, arr):\n",
    "#         if idx == len(arr):\n",
    "#             yield arr\n",
    "#             return\n",
    "#         if idx in [1, 4, 9]:\n",
    "#             yield from create(idx+1, arr)\n",
    "#             return\n",
    "#         for i in range(4):\n",
    "#             arr[idx] = i\n",
    "#             yield from create(idx+1, arr)\n",
    "#             arr[idx] = 0\n",
    "#     ans = inf\n",
    "#     base = [0]*len(switches)\n",
    "#     base[9] = (4-clocks[13]) % 4\n",
    "#     base[4] = (4-clocks[12]) % 4\n",
    "#     base[1] = (4-clocks[11]) % 4\n",
    "#     for arr in create(0, base[:]):\n",
    "#         cur = clocks[:]\n",
    "#         for i, a in enumerate(arr):\n",
    "#             for s in switches[i]:\n",
    "#                 cur[s] = (cur[s]+a) % 4\n",
    "#         if all(c == 0 for c in cur):\n",
    "#             ans = min(ans, sum(arr))\n",
    "#     return ans if ans != inf else -1\n",
    "\n",
    "\n",
    "# t = int(input())\n",
    "# for _ in range(t):\n",
    "#     print(solve(list(map(int, input().split()))))"
   ]
  }
 ],
 "metadata": {
  "kernelspec": {
   "display_name": "Python 3",
   "language": "python",
   "name": "python3"
  },
  "language_info": {
   "codemirror_mode": {
    "name": "ipython",
    "version": 3
   },
   "file_extension": ".py",
   "mimetype": "text/x-python",
   "name": "python",
   "nbconvert_exporter": "python",
   "pygments_lexer": "ipython3",
   "version": "3.7.4"
  }
 },
 "nbformat": 4,
 "nbformat_minor": 4
}
