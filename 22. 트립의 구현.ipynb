{
 "cells": [
  {
   "cell_type": "markdown",
   "metadata": {},
   "source": [
    "# 트립을 구현하지 않으면 저 문제는 풀 수 가 없다.\n",
    "- https://stricky.tistory.com/175\n",
    "- 참고 : http://ejklike.github.io/2018/01/09/traversing-a-binary-tree-1.html"
   ]
  },
  {
   "cell_type": "markdown",
   "metadata": {},
   "source": [
    "### 간단한 트립 구현"
   ]
  },
  {
   "cell_type": "code",
   "execution_count": 56,
   "metadata": {},
   "outputs": [],
   "source": [
    "# 입력 리스트 a=[68732]\n",
    "# 출력 리스트 [23678]\n",
    "\n",
    "# 리스트(r)요소(v)가 들어가야 할 위치를 돌려주는 함수, 즉 인덱스 함수\n",
    "def find_index(r,value):\n",
    "   \n",
    "    # 이미 정렬된 리스트 r의 자료를 앞에서부터 차례대로 확인\n",
    "    for i in range(len(r)):\n",
    "        if value < r[i]:\n",
    "            return i\n",
    "    \n",
    "    # 적절한 위치가 없다는 것은 : 가장 큰 숫자이므로 맨 뒤에 삽입.\n",
    "    return len(r)"
   ]
  },
  {
   "cell_type": "code",
   "execution_count": 60,
   "metadata": {},
   "outputs": [],
   "source": [
    "def ins_sort(a):\n",
    "    result = []\n",
    "    while a:\n",
    "        value=a.pop(0)\n",
    "        \n",
    "        idx = find_index(result, value) ##인덱스 뱉아냄\n",
    "        result.insert(idx,value) # 파이썬 insert함수 \n",
    "        \n",
    "    return result"
   ]
  },
  {
   "cell_type": "code",
   "execution_count": 61,
   "metadata": {},
   "outputs": [
    {
     "name": "stdout",
     "output_type": "stream",
     "text": [
      "[2, 3, 4, 5, 7, 8, 9]\n"
     ]
    }
   ],
   "source": [
    "d = [2, 4, 9, 7, 5, 8, 3] \n",
    "print(ins_sort(d))"
   ]
  },
  {
   "cell_type": "code",
   "execution_count": null,
   "metadata": {},
   "outputs": [],
   "source": []
  },
  {
   "cell_type": "markdown",
   "metadata": {},
   "source": [
    "# 트립의 구현\n",
    "http://ejklike.github.io/2018/01/09/traversing-a-binary-tree-1.html"
   ]
  },
  {
   "cell_type": "code",
   "execution_count": 7,
   "metadata": {},
   "outputs": [],
   "source": [
    "shifted = [0,1,1,2,3] #결국에는 후보 중에 이 수보다 큰 수가 있다.\n",
    "n=len(shifted)\n",
    "answer = [5,1,4,3,2] \n",
    "\n"
   ]
  },
  {
   "cell_type": "code",
   "execution_count": 8,
   "metadata": {},
   "outputs": [],
   "source": [
    "shifted = [0,1,1,2,3]\n",
    "\n",
    "def solve(shifted):\n",
    "    n= len(shifted)\n",
    "    candidates = [i for i in range(1,n+1)]  # 12345\n",
    "    k=[]\n",
    "    \n",
    "    for i in range(n):\n",
    "        n_ = len(candidates)\n",
    "        \n",
    "        # 남은 사람 1명 남으면 : 그건 인덱스가 0이라는 의미이고, 하나도 움직이지 않는 다는 건, 맨 앞으로 추가한다! (그러니까 맨 왼쪽)\n",
    "        if n_==1:\n",
    "            #print(candidates)\n",
    "            k.insert(0,candidates[0])\n",
    "            \n",
    "        else:\n",
    "            larger = shifted[-1] #후보 중 이 수보다 큰 수가 있다. 5는 0 1은 1\n",
    "            idx = n_-larger-1\n",
    "            values = candidates.pop(idx)\n",
    "            k.insert(0,values)\n",
    "            \n",
    "            del shifted[-1]\n",
    "            \n",
    "        print(k,candidates)\n",
    "    return k"
   ]
  },
  {
   "cell_type": "code",
   "execution_count": 9,
   "metadata": {},
   "outputs": [
    {
     "name": "stdout",
     "output_type": "stream",
     "text": [
      "[2] [1, 3, 4, 5]\n",
      "[3, 2] [1, 4, 5]\n",
      "[4, 3, 2] [1, 5]\n",
      "[1, 4, 3, 2] [5]\n",
      "[5, 1, 4, 3, 2] [5]\n"
     ]
    },
    {
     "data": {
      "text/plain": [
       "[5, 1, 4, 3, 2]"
      ]
     },
     "execution_count": 9,
     "metadata": {},
     "output_type": "execute_result"
    }
   ],
   "source": [
    "solve(shifted) #51432  23415"
   ]
  },
  {
   "cell_type": "code",
   "execution_count": 10,
   "metadata": {},
   "outputs": [
    {
     "name": "stdout",
     "output_type": "stream",
     "text": [
      "[1] [2, 3, 4]\n",
      "[2, 1] [3, 4]\n",
      "[3, 2, 1] [4]\n",
      "[4, 3, 2, 1] [4]\n"
     ]
    },
    {
     "data": {
      "text/plain": [
       "[4, 3, 2, 1]"
      ]
     },
     "execution_count": 10,
     "metadata": {},
     "output_type": "execute_result"
    }
   ],
   "source": [
    "shifted2=[0,1,2,3]\n",
    "solve(shifted2)"
   ]
  },
  {
   "cell_type": "code",
   "execution_count": 12,
   "metadata": {},
   "outputs": [
    {
     "name": "stdout",
     "output_type": "stream",
     "text": [
      "[4] [1, 2, 3, 5]\n",
      "[5, 4] [1, 2, 3]\n",
      "[3, 5, 4] [1, 2]\n",
      "[2, 3, 5, 4] [1]\n",
      "[1, 2, 3, 5, 4] [1]\n"
     ]
    },
    {
     "data": {
      "text/plain": [
       "[1, 2, 3, 5, 4]"
      ]
     },
     "execution_count": 12,
     "metadata": {},
     "output_type": "execute_result"
    }
   ],
   "source": [
    "solve([0,0,0,0,1]) #12354 # 아?? 찾았넼ㅋㅋㅋㅋㅋㅋ"
   ]
  },
  {
   "cell_type": "markdown",
   "metadata": {},
   "source": [
    "# 변화하는 중간값\n",
    "\n",
    "* 출력 \n",
    "\n",
    "\n",
    "\n",
    "* :각 테스트 케이스마다 한 줄에 N개의 중간 값의 합을 20090711로 나눈 나머지를 출력."
   ]
  },
  {
   "cell_type": "code",
   "execution_count": 28,
   "metadata": {},
   "outputs": [],
   "source": [
    "# 변화하는 중간 값 \n",
    "\n",
    "def Inputs(N,a,b):\n",
    "    A=[]\n",
    "    A.insert(0,1983)\n",
    "    Sum_A = int(A[0])\n",
    "    \n",
    "    for i in range(1,N):\n",
    "        A.insert(i,(A[i-1]*a+b)%20090711)  #나머지? \n",
    "        # 여기서 중간값만 추출하는 함수\n",
    "        \n",
    "        # 정렬하는 함수\n",
    "        B=sorted(A) \n",
    "        \n",
    "        if len(B)%2 == 1 :\n",
    "            A_n = (len(B)//2)   # 12345 5%2=1 5//2=2 01234 3 1234\n",
    "            \n",
    "        else : #짝수 \n",
    "            A_n = (len(B)//2-1)\n",
    "        '''+ (len(A) %2) '''\n",
    "        \n",
    "        Sum_A += B[A_n]\n",
    "    \n",
    "    return Sum_A%20090711\n"
   ]
  },
  {
   "cell_type": "code",
   "execution_count": 16,
   "metadata": {},
   "outputs": [
    {
     "data": {
      "text/plain": [
       "19830"
      ]
     },
     "execution_count": 16,
     "metadata": {},
     "output_type": "execute_result"
    }
   ],
   "source": [
    "Inputs(10000,1273,4936)\n",
    "Inputs(10,1,1)\n",
    "Inputs(10,1,0)"
   ]
  },
  {
   "cell_type": "code",
   "execution_count": 29,
   "metadata": {},
   "outputs": [
    {
     "data": {
      "text/plain": [
       "(2448920, [1983, 3825, 7488, 10334, 12007, 12976, 16514, 18210, 18549, 19086])"
      ]
     },
     "execution_count": 29,
     "metadata": {},
     "output_type": "execute_result"
    }
   ],
   "source": [
    "Inputs(10000,1273,4936)"
   ]
  },
  {
   "cell_type": "code",
   "execution_count": 3,
   "metadata": {},
   "outputs": [
    {
     "name": "stdout",
     "output_type": "stream",
     "text": [
      "c? 3\n",
      "N? a? b? 10 1 1\n"
     ]
    }
   ],
   "source": [
    "C= int(input(\"c? \"))\n",
    "data = list(map(int, input(\"N? a? b? \").split(\" \")))\n",
    "N= data[0]; a=data[1]; b=data[2]"
   ]
  },
  {
   "cell_type": "code",
   "execution_count": 6,
   "metadata": {},
   "outputs": [
    {
     "name": "stdout",
     "output_type": "stream",
     "text": [
      "c? 3\n",
      "N? a? b? 10 1 0\n",
      "19830\n",
      "N? a? b? 10 1 1\n",
      "19850\n",
      "N? a? b? 10000 1273 4936\n",
      "7444909\n"
     ]
    }
   ],
   "source": [
    "C= int(input(\"c? \"))\n",
    "\n",
    "for i in range(C):\n",
    "    data = list(map(int, input(\"N? a? b? \").split(\" \")))\n",
    "    N= data[0]; a=data[1]; b=data[2]\n",
    "    \n",
    "    print(Inputs(N,a,b))\n",
    "    print(\"\\n\")"
   ]
  }
 ],
 "metadata": {
  "kernelspec": {
   "display_name": "Python 3",
   "language": "python",
   "name": "python3"
  },
  "language_info": {
   "codemirror_mode": {
    "name": "ipython",
    "version": 3
   },
   "file_extension": ".py",
   "mimetype": "text/x-python",
   "name": "python",
   "nbconvert_exporter": "python",
   "pygments_lexer": "ipython3",
   "version": "3.7.4"
  }
 },
 "nbformat": 4,
 "nbformat_minor": 2
}
