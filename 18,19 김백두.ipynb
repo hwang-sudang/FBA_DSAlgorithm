{
 "cells": [
  {
   "cell_type": "markdown",
   "metadata": {},
   "source": [
    "## 18장 선형자료구조"
   ]
  },
  {
   "cell_type": "markdown",
   "metadata": {},
   "source": [
    "조세푸스 문제"
   ]
  },
  {
   "cell_type": "code",
   "execution_count": 3,
   "metadata": {},
   "outputs": [],
   "source": [
    "#테스트 케이스 1\n",
    "list_ = [1,2,3,4,5,6] #N=6\n",
    "num = 3 #K"
   ]
  },
  {
   "cell_type": "code",
   "execution_count": 6,
   "metadata": {},
   "outputs": [],
   "source": [
    "#테스트 케이스 2\n",
    "list_ = list(range(1,41))\n",
    "num = 3"
   ]
  },
  {
   "cell_type": "code",
   "execution_count": 89,
   "metadata": {},
   "outputs": [
    {
     "data": {
      "text/plain": [
       "[1, 4, 7, 10, 13, 16, 19, 22, 25, 28, 31, 34, 37, 40]"
      ]
     },
     "execution_count": 89,
     "metadata": {},
     "output_type": "execute_result"
    }
   ],
   "source": [
    "#현재 사람 리스트에서(사람들이 원형이 아니라 일렬로 서있다고 생각해서) \n",
    "#처음죽는사람, K번째씩 건너 뛰어서 죽는 사람을 모두 더한 것이 value_list\n",
    "start = 0\n",
    "i = 0\n",
    "value_list = []\n",
    "while num*i + start < len(list_):\n",
    "    value_list.append(list_[num*i + start])\n",
    "    i += 1\n",
    "i = 0\n",
    "\n",
    "value_list"
   ]
  },
  {
   "cell_type": "code",
   "execution_count": 86,
   "metadata": {
    "collapsed": true
   },
   "outputs": [
    {
     "data": {
      "text/plain": [
       "[2,\n",
       " 3,\n",
       " 5,\n",
       " 6,\n",
       " 8,\n",
       " 9,\n",
       " 11,\n",
       " 12,\n",
       " 14,\n",
       " 15,\n",
       " 17,\n",
       " 18,\n",
       " 20,\n",
       " 21,\n",
       " 23,\n",
       " 24,\n",
       " 26,\n",
       " 27,\n",
       " 29,\n",
       " 30,\n",
       " 32,\n",
       " 33,\n",
       " 35,\n",
       " 36,\n",
       " 38,\n",
       " 39]"
      ]
     },
     "execution_count": 86,
     "metadata": {},
     "output_type": "execute_result"
    }
   ],
   "source": [
    "#다음 단계의 리스트는 기존 사람들이 서있던 리스트에서 죽은 사람들을 빼주면 됨\n",
    "list_ = list(set(list_) - set(value_list))\n",
    "list_"
   ]
  },
  {
   "cell_type": "code",
   "execution_count": 90,
   "metadata": {},
   "outputs": [
    {
     "data": {
      "text/plain": [
       "2"
      ]
     },
     "execution_count": 90,
     "metadata": {},
     "output_type": "execute_result"
    }
   ],
   "source": [
    "#다음 리스트에서 새로운 죽는 사람의 시작지점은\n",
    "diff = len(list_)- list_.index(value_list[-1])-1\n",
    "diff\n",
    "new_start = num - diff -1\n",
    "new_start"
   ]
  },
  {
   "cell_type": "code",
   "execution_count": 4,
   "metadata": {},
   "outputs": [],
   "source": [
    "#N < K인 경우엔 사용할 수 없는 문제점이 발생하는 코드임\n",
    "#해당 단계의 list_를 반복해 붙여서 K이상으로 만들어주면 될 듯 함\n",
    "\n",
    "def josepus(list_, num, start):\n",
    "    i = 0\n",
    "    value_list = []\n",
    "    \n",
    "    #사람들이 일렬로 늘어서있고, 처음 죽는 사람부터 K번째씩 떨어져 있는 사람들이 모두 한번에 죽는다고 생각하면, \n",
    "    #해당 단계에서 죽는사람들의 리스트가 value_list\n",
    "    while num*i + start < len(list_):\n",
    "        value_list.append(list_[num*i + start])\n",
    "        i += 1\n",
    "    \n",
    "    #N<K일때까지 생존자리스트인 list_에서 즉운사람 린스트인 value_list를 빼주는 것을 반복함 (원래는 무조건 2명이 남을 때까지 반복하는 것)\n",
    "    #\n",
    "    if num <= len(list_):\n",
    "        diff = len(list_)- list_.index(value_list[-1])-1\n",
    "        start = num - diff -1\n",
    "        \n",
    "        list_ = list(set(list_) - set(value_list))\n",
    "        list_.sort()\n",
    "        #print(list_)\n",
    "        return josepus(list_, num, start)\n",
    "    \n",
    "    # N>K가 되면 생존자 목록을 보여줌\n",
    "    else:\n",
    "        return list_"
   ]
  },
  {
   "cell_type": "code",
   "execution_count": 7,
   "metadata": {},
   "outputs": [
    {
     "data": {
      "text/plain": [
       "[11, 26]"
      ]
     },
     "execution_count": 7,
     "metadata": {},
     "output_type": "execute_result"
    }
   ],
   "source": [
    "josepus(list_, num, 0)"
   ]
  },
  {
   "cell_type": "code",
   "execution_count": 8,
   "metadata": {},
   "outputs": [
    {
     "data": {
      "text/plain": [
       "[11, 26]"
      ]
     },
     "execution_count": 8,
     "metadata": {},
     "output_type": "execute_result"
    }
   ],
   "source": [
    "josepus(list_, num, 0)"
   ]
  },
  {
   "cell_type": "code",
   "execution_count": null,
   "metadata": {},
   "outputs": [],
   "source": []
  },
  {
   "cell_type": "markdown",
   "metadata": {},
   "source": [
    "## 19장 큐와 스택, 데크"
   ]
  },
  {
   "cell_type": "markdown",
   "metadata": {},
   "source": [
    "짝이 맞지 않는 괄호"
   ]
  },
  {
   "cell_type": "code",
   "execution_count": 110,
   "metadata": {},
   "outputs": [
    {
     "data": {
      "text/plain": [
       "8"
      ]
     },
     "execution_count": 110,
     "metadata": {},
     "output_type": "execute_result"
    }
   ],
   "source": [
    "formula = '[[{}]]()'\n",
    "len(formula)"
   ]
  },
  {
   "cell_type": "code",
   "execution_count": 112,
   "metadata": {},
   "outputs": [
    {
     "data": {
      "text/plain": [
       "2"
      ]
     },
     "execution_count": 112,
     "metadata": {},
     "output_type": "execute_result"
    }
   ],
   "source": [
    "opening = '({['\n",
    "opening.find('[')"
   ]
  },
  {
   "cell_type": "code",
   "execution_count": 114,
   "metadata": {},
   "outputs": [
    {
     "data": {
      "text/plain": [
       "True"
      ]
     },
     "execution_count": 114,
     "metadata": {},
     "output_type": "execute_result"
    }
   ],
   "source": [
    "o = []\n",
    "not o"
   ]
  },
  {
   "cell_type": "code",
   "execution_count": 119,
   "metadata": {},
   "outputs": [
    {
     "data": {
      "text/plain": [
       "[1, 3, 5]"
      ]
     },
     "execution_count": 119,
     "metadata": {},
     "output_type": "execute_result"
    }
   ],
   "source": [
    "p = [1,3,5,7]\n",
    "p.pop()\n",
    "p"
   ]
  },
  {
   "cell_type": "code",
   "execution_count": 120,
   "metadata": {},
   "outputs": [],
   "source": [
    "def wellMatched (formula):\n",
    "    #여는 괄호 문자들과 닫는 괄호 문자들\n",
    "    opening = '({['\n",
    "    closing = ')}]'\n",
    "    #이미 열린 괄호들을 순서대로 담는 스택\n",
    "    openStack = []\n",
    "    for i in range(len(formula)):\n",
    "        #여는 괄호인지 닫는 괄호인지 확인한다.\n",
    "        if opening.find(formula[i]) != -1:\n",
    "            #여는 괄호라면 무조건 스택에 집어넣는다.\n",
    "            openStack.append(formula[i])\n",
    "           \n",
    "        else:\n",
    "            #이외의 경우 스택 맨 위의 문자와 맞춰보자\n",
    "            #스택이 비어있는 경우는 실패\n",
    "            if not openStack:\n",
    "                return False\n",
    "            #서로 짝이 맞지 않아도 실패\n",
    "            if opening.find(openStack[-1]) != closing.find(formula[i]):\n",
    "                return False\n",
    "            #짝을 맞춘 괄호는 스택에서 뺀다.\n",
    "            openStack.pop()\n",
    "    \n",
    "    #닫히지 않는 괄호가 없어야 성공\n",
    "    return not openStack"
   ]
  },
  {
   "cell_type": "code",
   "execution_count": 121,
   "metadata": {},
   "outputs": [
    {
     "data": {
      "text/plain": [
       "True"
      ]
     },
     "execution_count": 121,
     "metadata": {},
     "output_type": "execute_result"
    }
   ],
   "source": [
    "wellMatched (formula)"
   ]
  },
  {
   "cell_type": "code",
   "execution_count": 122,
   "metadata": {},
   "outputs": [
    {
     "data": {
      "text/plain": [
       "False"
      ]
     },
     "execution_count": 122,
     "metadata": {},
     "output_type": "execute_result"
    }
   ],
   "source": [
    "formula= '{[])}]'\n",
    "wellMatched (formula)"
   ]
  }
 ],
 "metadata": {
  "kernelspec": {
   "display_name": "Python 3",
   "language": "python",
   "name": "python3"
  },
  "language_info": {
   "codemirror_mode": {
    "name": "ipython",
    "version": 3
   },
   "file_extension": ".py",
   "mimetype": "text/x-python",
   "name": "python",
   "nbconvert_exporter": "python",
   "pygments_lexer": "ipython3",
   "version": "3.7.4"
  }
 },
 "nbformat": 4,
 "nbformat_minor": 4
}
