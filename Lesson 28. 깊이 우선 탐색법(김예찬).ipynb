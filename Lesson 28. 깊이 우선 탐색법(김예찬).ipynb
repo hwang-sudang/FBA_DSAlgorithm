{
 "cells": [
  {
   "cell_type": "code",
   "execution_count": 320,
   "metadata": {},
   "outputs": [],
   "source": [
    "test_1 = ['ba', 'aa', 'ab']\n",
    "test_2 = ['gg', 'kia', 'lotte', 'lg', 'hanwha']\n",
    "test_3 = ['dictionary', 'english', 'is', 'ordered', 'ordinary', 'this']"
   ]
  },
  {
   "cell_type": "code",
   "execution_count": 321,
   "metadata": {},
   "outputs": [],
   "source": [
    "words = test_2"
   ]
  },
  {
   "cell_type": "code",
   "execution_count": 322,
   "metadata": {},
   "outputs": [],
   "source": [
    "import numpy as np\n",
    "import pandas as pd\n",
    "\n",
    "adj = np.zeros((26,26))\n",
    "\n",
    "for j in range(1,len(words)):\n",
    "    i = j - 1\n",
    "    len_ = min(len(words[i]), len(words[j]))\n",
    "    \n",
    "    for k in range(len_):\n",
    "        if words[i][k] != words[j][k]:\n",
    "            a = ord(words[i][k]) - ord('a')\n",
    "            b = ord(words[j][k]) - ord('a')\n",
    "            adj[a][b] = 1\n",
    "            break\n",
    "            "
   ]
  },
  {
   "cell_type": "code",
   "execution_count": 323,
   "metadata": {},
   "outputs": [],
   "source": [
    "\n",
    "def dfs(here):\n",
    "    global seen, order\n",
    "    seen[here] = 1\n",
    "#     print(here)\n",
    "    for there in range(len(adj)):\n",
    "        if bool(adj[here][there]) & bool(not seen[there]):\n",
    "#             print(there)\n",
    "            dfs(there)\n",
    "        \n",
    "    order.append(here)\n",
    "\n",
    "    "
   ]
  },
  {
   "cell_type": "code",
   "execution_count": 324,
   "metadata": {},
   "outputs": [],
   "source": [
    "order = []\n",
    "seen = [0 for _ in range(26)]\n",
    "\n",
    "def main():\n",
    "    global order\n",
    "    m = len(adj)\n",
    "    \n",
    "    for i in range(m):\n",
    "        if not seen[i]:\n",
    "            dfs(i)\n",
    "    order = order[::-1]\n",
    "#     print(order)\n",
    "    \n",
    "    for i in range(m):\n",
    "        for j in range(i+1, m):\n",
    "            if bool(adj[order[j]][order[i]]):\n",
    "                return []\n",
    "        \n",
    "    return order"
   ]
  },
  {
   "cell_type": "code",
   "execution_count": 325,
   "metadata": {},
   "outputs": [],
   "source": [
    "answer = main()"
   ]
  },
  {
   "cell_type": "code",
   "execution_count": 326,
   "metadata": {},
   "outputs": [
    {
     "data": {
      "text/plain": [
       "['z',\n",
       " 'y',\n",
       " 'x',\n",
       " 'w',\n",
       " 'v',\n",
       " 'u',\n",
       " 't',\n",
       " 's',\n",
       " 'r',\n",
       " 'q',\n",
       " 'p',\n",
       " 'o',\n",
       " 'n',\n",
       " 'm',\n",
       " 'j',\n",
       " 'i',\n",
       " 'g',\n",
       " 'k',\n",
       " 'l',\n",
       " 'h',\n",
       " 'f',\n",
       " 'e',\n",
       " 'd',\n",
       " 'c',\n",
       " 'b',\n",
       " 'a']"
      ]
     },
     "execution_count": 326,
     "metadata": {},
     "output_type": "execute_result"
    }
   ],
   "source": [
    "[chr(i + ord('a')) for i in answer]"
   ]
  },
  {
   "cell_type": "code",
   "execution_count": null,
   "metadata": {},
   "outputs": [],
   "source": []
  },
  {
   "cell_type": "code",
   "execution_count": 84,
   "metadata": {},
   "outputs": [],
   "source": []
  },
  {
   "cell_type": "code",
   "execution_count": 301,
   "metadata": {},
   "outputs": [],
   "source": [
    "import numpy as np\n",
    "\n",
    "def makeGraph(words, adj, graph, indegree, outdegree):\n",
    "    for i in range(len(words)):\n",
    "        a = ord(words[i][0]) - ord('a')\n",
    "        b = ord(words[i][-1]) - ord('a')\n",
    "        graph[a][b] = words[i]\n",
    "        adj[a][b] += 1\n",
    "        outdegree[a] += 1\n",
    "        indegree[b] += 1\n",
    "        \n",
    "    return adj, graph, indegree, outdegree"
   ]
  },
  {
   "cell_type": "code",
   "execution_count": 302,
   "metadata": {},
   "outputs": [],
   "source": [
    "def getEulerCircuit(adj, here, circuit):\n",
    "    for there in range(len(adj)):\n",
    "        while adj[here][there] > 0:\n",
    "            adj[here][there] = 0\n",
    "            getEulerCircuit(adj, there, circuit)\n",
    "            \n",
    "    circuit.append(here)\n",
    "    \n",
    "def getEulerTrailOrCircuit(adj, outdegree, indegree):\n",
    "    circuit = []\n",
    "    \n",
    "    for i in range(26):\n",
    "        if outdegree[i] == indegree[i] + 1:\n",
    "            getEulerCircuit(adj, i, circuit)\n",
    "            return circuit\n",
    "        \n",
    "    for i in range(26):\n",
    "        if bool(outdegree[i]):\n",
    "            getEulerCircuit(adj, i, circuit)\n",
    "            return circuit\n",
    "        \n",
    "    return circuit"
   ]
  },
  {
   "cell_type": "code",
   "execution_count": 303,
   "metadata": {},
   "outputs": [],
   "source": [
    "def checkEuler(outdegree, indegree):\n",
    "    plus1, minus1 = 0, 0\n",
    "    for i in range(26):\n",
    "        delta = outdegree[i] - indegree[i]\n",
    "        \n",
    "        if (delta < -1) | (1 < delta):\n",
    "            return False\n",
    "        if delta == 1:\n",
    "            plus1 += 1\n",
    "        if delta == -1:\n",
    "            minus1 += 1\n",
    "            \n",
    "    return (((plus1 == 1) & (minus1 == 1) )| ((plus1 == 0) & (minus1 == 0)))"
   ]
  },
  {
   "cell_type": "code",
   "execution_count": 397,
   "metadata": {},
   "outputs": [],
   "source": [
    "def solve(words):\n",
    "    adj = np.zeros((26, 26))\n",
    "    graph = np.full((26, 26), \"\", dtype=np.object)\n",
    "    indegree, outdegree = np.zeros(26), np.zeros(26)\n",
    "    \n",
    "    adj, graph, indegree, outdegree = makeGraph(words, adj, graph, indegree, outdegree)\n",
    "       \n",
    "    if not checkEuler(outdegree, indegree):\n",
    "        print(\"CheckEuler => False\")\n",
    "        return 'IMPOSSIBLE'\n",
    "\n",
    "    circuit = getEulerTrailOrCircuit(adj, outdegree, indegree)\n",
    "\n",
    "    if len(circuit) != len(words) + 1:\n",
    "        print(\"len(circuit) != len(words)\")\n",
    "#         print(circuit)\n",
    "        return 'IMPOSSIBLE'\n",
    "\n",
    "    circuit = circuit[::-1]\n",
    "    \n",
    "    ret = \"\"\n",
    "    \n",
    "    print(circuit)\n",
    "    for i in range(len(circuit)):\n",
    "        a = circuit[i-1]; b = circuit[i]\n",
    "        if len(ret) != 0:\n",
    "            ret += \" \"\n",
    "        ret += graph[a][b]\n",
    "        graph[a][b] == \"\"\n",
    "        \n",
    "    return ret"
   ]
  },
  {
   "cell_type": "code",
   "execution_count": 398,
   "metadata": {},
   "outputs": [],
   "source": [
    "# words = ['aa', 'ab', 'bb']\n",
    "words = ['dog', 'god', 'dragon', 'need']\n",
    "# words = ['ab', 'cd']"
   ]
  },
  {
   "cell_type": "code",
   "execution_count": 399,
   "metadata": {},
   "outputs": [
    {
     "name": "stdout",
     "output_type": "stream",
     "text": [
      "[3, 6, 3, 13, 3]\n"
     ]
    },
    {
     "data": {
      "text/plain": [
       "'dog god dragon need'"
      ]
     },
     "execution_count": 399,
     "metadata": {},
     "output_type": "execute_result"
    }
   ],
   "source": [
    "solve(words)"
   ]
  }
 ],
 "metadata": {
  "kernelspec": {
   "display_name": "Python 3",
   "language": "python",
   "name": "python3"
  },
  "language_info": {
   "codemirror_mode": {
    "name": "ipython",
    "version": 3
   },
   "file_extension": ".py",
   "mimetype": "text/x-python",
   "name": "python",
   "nbconvert_exporter": "python",
   "pygments_lexer": "ipython3",
   "version": "3.8.2"
  }
 },
 "nbformat": 4,
 "nbformat_minor": 4
}
